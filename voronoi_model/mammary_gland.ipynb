{
 "cells": [],
 "metadata": {
  "kernelspec": {
   "display_name": "Python 3",
   "language": "python",
   "name": "python3"
  },
  "language_info": {
   "codemirror_mode": {
    "name": "ipython",
    "version": 2
   },
   "file_extension": ".py",
   "mimetype": "text/x-python",
   "name": "python",
   "nbconvert_exporter": "python",
   "pygments_lexer": "ipython2",
   "version": "2.7.6"
  },
  "pycharm": {
   "stem_cell": {
    "cell_type": "raw",
    "source": [
     "#%\n",
     "\n",
     "from voronoi_model.voronoi_model_periodic import *\n",
     "import numpy as np\n",
     "import matplotlib.pyplot as plt\n",
     "\n",
     "\n",
     "\n",
     "vor = Tissue()\n",
     "vor.generate_cells(300)\n",
     "vor.make_init_boundary(22,0.15)\n",
     "alpha = 0.03\n",
     "vor.set_interaction_boundary(W = alpha*np.array([[0, 1], [1, 0]]),pE=0.55,Wb=[0.3,0.05])\n",
     "vor._triangulate(vor.x0)\n",
     "vor.triangulate(vor.x0)\n",
     "vor.assign_vertices()\n",
     "vor.x0 = vor.check_boundary(vor.x0)\n",
     "vor.Gamma_bound = 5e-3\n",
     "vor.kappa_B = 0#0.05\n",
     "vor.l_b0 = 0.3\n",
     "vor.zeta = 0#0.05\n",
     "\n",
     "# vor.P0 = 3.00\n",
     "p0 = 3.95\n",
     "vor.A0 = 0.9\n",
     "vor.P0 = p0*np.sqrt(vor.A0)\n",
     "print(vor.P0)\n",
     "\n",
     "vor.v0 = 3e-1\n",
     "vor.Dr = 40\n",
     "vor.kappa_A = 0.1\n",
     "vor.kappa_P = 0.05\n",
     "vor.a = 0.2\n",
     "vor.k = 2\n",
     "\n",
     "vor.cols = \"red\",\"green\",\"white\"\n",
     "vor.plot_scatter = False\n",
     "\n",
     "vor.set_t_span(0.025,250)\n",
     "vor.simulate_boundary(b_extra=10,print_every=2000)\n",
     "\n",
     "vor.plot_forces = False\n",
     "vor.animate(n_frames=50,an_type=\"boundary\",tri=False)\n",
     "\n",
     "\n"
    ],
    "metadata": {
     "collapsed": false
    }
   }
  }
 },
 "nbformat": 4,
 "nbformat_minor": 0
}