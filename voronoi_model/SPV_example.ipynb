{
 "cells": [
  {
   "cell_type": "markdown",
   "source": [
    "SPV model\n",
    "\n",
    "The following energy functional is used to derive the forces: \n",
    "\n",
    "E_i = kappa_A*(A_i-A0)^2 + kappa_P*(P_i-P0)^2 + Sum_<j interfaces of i> {J_ij *l_ij}\n",
    "\n",
    "(I can explain properly if this is confusing)\n",
    "\n",
    "First install the packages. The actual code is in **voronoi_model_periodic**"
   ],
   "metadata": {
    "collapsed": false
   }
  },
  {
   "cell_type": "code",
   "execution_count": null,
   "metadata": {
    "collapsed": true
   },
   "outputs": [],
   "source": [
    "from voronoi_model.voronoi_model_periodic import *\n",
    "import numpy as np\n",
    "import matplotlib.pyplot as plt"
   ]
  },
  {
   "cell_type": "markdown",
   "source": [
    "Set up your tissue object. This is \"vor\"\n",
    "\n",
    "At the moment, the cell set-up is a bit messy. The initial condition should be a set of hexagons with randomly attributed \n",
    "cell types, conforming to the proportion \"pE\" (the proportion of ES cells here). "
   ],
   "metadata": {
    "collapsed": false,
    "pycharm": {
     "name": "#%% md\n"
    }
   }
  },
  {
   "cell_type": "code",
   "execution_count": null,
   "outputs": [],
   "source": [
    "vor = Tissue()\n",
    "vor.generate_cells(n_c=100) #(Approximate) number of cells. Have a play... I'll improve this later. \n",
    "vor.make_init(L=15,noise=0) #Set the length of the x and y axes. This should fill in hexagons with a fixed size. Crops the excess hexagons and re-adjusts the cell number. Very crude atm."
   ],
   "metadata": {
    "collapsed": false,
    "pycharm": {
     "name": "#%%\n"
    }
   }
  },
  {
   "cell_type": "markdown",
   "source": [
    "Set your interaction parameters. This is a bit like the W matrix much like in the lattice model. \n",
    "\n",
    "Note that contributions towards the adhesion term come from two places in the energy functional -- P0 and \"J\". \n",
    "Essentially you can view P0 as measuring the amount of homotypic adhesion, and then the J term sets the deviation from homotypic adhesion. \n",
    "\n",
    "In this case we have identical parameters for each cell type, but they repel each other (hence +ve W)\n",
    "\n",
    "W_matrix is then mapped to a self.J matrix, which considers the interaction between every pair of cell ids. This is all done automatically"
   ],
   "metadata": {
    "collapsed": false,
    "pycharm": {
     "name": "#%% md\n"
    }
   }
  },
  {
   "cell_type": "code",
   "execution_count": null,
   "outputs": [],
   "source": [
    "alpha = 0.08\n",
    "vor.set_interaction(W = alpha*np.array([[0, 1], [1, 0]]),pE=0.5)\n",
    "\n",
    "p0 = 3.80 #shape index\n",
    "vor.A0 = 0.86 \n",
    "vor.P0 = p0*np.sqrt(vor.A0)\n",
    "vor.v0 = 1e-2 #Instanteous velocity\n",
    "vor.Dr = 0.01 #Reciprocal of persistence time\n",
    "vor.kappa_A = 0.2 #Area term coeff. \n",
    "vor.kappa_P = 0.1 #Perim term coeff. "
   ],
   "metadata": {
    "collapsed": false,
    "pycharm": {
     "name": "#%%\n"
    }
   }
  },
  {
   "cell_type": "markdown",
   "source": [
    "Soft repulsion between cells is also coded in to prevent dodgy numerical issues. See the appendix of the PloS C.B. \"Active Vertex\" Paper"
   ],
   "metadata": {
    "collapsed": false,
    "pycharm": {
     "name": "#%% md\n"
    }
   }
  },
  {
   "cell_type": "code",
   "execution_count": null,
   "outputs": [],
   "source": [
    "vor.a = 0.3 #radius of inner soft shell\n",
    "vor.k = 2 #Magnitude of repulsion"
   ],
   "metadata": {
    "collapsed": false,
    "pycharm": {
     "name": "#%%\n"
    }
   }
  },
  {
   "cell_type": "markdown",
   "source": [
    "Set time parameters"
   ],
   "metadata": {
    "collapsed": false,
    "pycharm": {
     "name": "#%% md\n"
    }
   }
  },
  {
   "cell_type": "code",
   "execution_count": null,
   "outputs": [],
   "source": [
    "vor.set_t_span(dt=0.025,tfin=200)"
   ],
   "metadata": {
    "collapsed": false,
    "pycharm": {
     "name": "#%%\n"
    }
   }
  },
  {
   "cell_type": "markdown",
   "source": [
    "Simulate!"
   ],
   "metadata": {
    "collapsed": false,
    "pycharm": {
     "name": "#%% md\n"
    }
   }
  },
  {
   "cell_type": "code",
   "execution_count": null,
   "outputs": [],
   "source": [
    "vor.simulate()"
   ],
   "metadata": {
    "collapsed": false,
    "pycharm": {
     "name": "#%%\n"
    }
   }
  },
  {
   "cell_type": "markdown",
   "source": [
    "Animate the output"
   ],
   "metadata": {
    "collapsed": false,
    "pycharm": {
     "name": "#%% md\n"
    }
   }
  },
  {
   "cell_type": "code",
   "execution_count": null,
   "outputs": [],
   "source": [
    "vor.animate(n_frames=50)"
   ],
   "metadata": {
    "collapsed": false,
    "pycharm": {
     "name": "#%%\n"
    }
   }
  },
  {
   "cell_type": "markdown",
   "source": [
    "Compute some stats and plot these "
   ],
   "metadata": {
    "collapsed": false,
    "pycharm": {
     "name": "#%% md\n"
    }
   }
  },
  {
   "cell_type": "code",
   "execution_count": null,
   "outputs": [],
   "source": [
    "vor.get_self_self()\n",
    "fig, ax = plt.subplots()\n",
    "ax.plot(vor.self_self)\n",
    "ax.set(xlabel=\"Time\",ylabel=\"Fraction of self-self interactions\")\n",
    "fig.savefig(\"self_self.pdf\")\n",
    "\n",
    "\n",
    "ratio = 0.5\n",
    "P0_eff = alpha*ratio/vor.kappa_P + vor.P0\n",
    "p0_eff = P0_eff/np.sqrt(vor.A0)\n",
    "print(p0_eff)\n",
    "\n",
    "\"\"\"\n",
    "Stat to measure q for each cell. \n",
    "And compare with neighbourhood and thus p0_eff\n",
    "And MSD (short time-scale)\n",
    "\"\"\"\n"
   ],
   "metadata": {
    "collapsed": false,
    "pycharm": {
     "name": "#%%\n"
    }
   }
  }
 ],
 "metadata": {
  "kernelspec": {
   "display_name": "Python 3",
   "language": "python",
   "name": "python3"
  },
  "language_info": {
   "codemirror_mode": {
    "name": "ipython",
    "version": 2
   },
   "file_extension": ".py",
   "mimetype": "text/x-python",
   "name": "python",
   "nbconvert_exporter": "python",
   "pygments_lexer": "ipython2",
   "version": "2.7.6"
  },
  "pycharm": {
   "stem_cell": {
    "cell_type": "raw",
    "source": [],
    "metadata": {
     "collapsed": false
    }
   }
  }
 },
 "nbformat": 4,
 "nbformat_minor": 0
}